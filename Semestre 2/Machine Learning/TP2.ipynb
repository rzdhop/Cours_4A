{
 "cells": [
  {
   "cell_type": "code",
   "execution_count": null,
   "metadata": {},
   "outputs": [],
   "source": [
    "import numpy as np\n",
    "\n",
    "data = np.loadtxt(\"dataset1.dat\")\n",
    "\n",
    "X = data[:, 0:2]\n",
    "y = data[:, 2].astype(int)\n",
    "\n",
    "\"\"\"\n",
    "data[:, 0:2] ==> [<all data from columns>, <from_Column_0>:<2 columns>]\n",
    "va selectioner dans toutes les donnée la colonne 0 et colonne 1\n",
    "\n",
    "data[:, 2] ==> [<all data from columns>, <column 2>]\n",
    "va selectionner uniquement la colonne 2\n",
    "\n",
    "\"\"\""
   ]
  },
  {
   "cell_type": "code",
   "execution_count": null,
   "metadata": {},
   "outputs": [],
   "source": [
    "def nb_class():\n",
    "    import numpy as np\n",
    "\n",
    "    data = np.loadtxt(\"dataset1.dat\")\n",
    "\n",
    "    X = data[:, 0:2]\n",
    "    y = data[:, 2].astype(int)\n",
    "\n",
    "    classes = np.unique(y)\n",
    "    nb_classes = len(classes)\n",
    "\n",
    "    return classes, nb_classes"
   ]
  },
  {
   "cell_type": "code",
   "execution_count": null,
   "metadata": {},
   "outputs": [],
   "source": []
  }
 ],
 "metadata": {
  "kernelspec": {
   "display_name": "Python 3",
   "language": "python",
   "name": "python3"
  },
  "language_info": {
   "name": "python",
   "version": "3.8.10 (tags/v3.8.10:3d8993a, May  3 2021, 11:48:03) [MSC v.1928 64 bit (AMD64)]"
  },
  "orig_nbformat": 4,
  "vscode": {
   "interpreter": {
    "hash": "9819df16dd03c2aa838c062182c5ac19be89e5d4e6467179db87ddbe0990b632"
   }
  }
 },
 "nbformat": 4,
 "nbformat_minor": 2
}
