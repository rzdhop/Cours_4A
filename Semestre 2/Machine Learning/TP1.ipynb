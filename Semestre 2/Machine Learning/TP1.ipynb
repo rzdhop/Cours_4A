{
 "cells": [
  {
   "cell_type": "markdown",
   "metadata": {},
   "source": []
  },
  {
   "cell_type": "code",
   "execution_count": null,
   "metadata": {},
   "outputs": [],
   "source": [
    "# Exercice 1\n",
    "\n",
    "import numpy as np\n",
    "data = np.loadtxt(\"dataset.dat\")\n",
    "X = data[:, 0:2]\n",
    "y = data[:, -1].astype(int)"
   ]
  },
  {
   "cell_type": "code",
   "execution_count": null,
   "metadata": {},
   "outputs": [],
   "source": [
    "# Exercice 2\n",
    "\n",
    "from sklearn import model_selection\n",
    "X_train, X_test, y_train, y_test = model_selection.train_test_split(X, y, train_size=0.7, test_size=0.3,random_state=1)"
   ]
  },
  {
   "cell_type": "code",
   "execution_count": null,
   "metadata": {},
   "outputs": [],
   "source": [
    "# Exercice 3\n",
    "\n",
    "from matplotlib import pyplot\n",
    "colors = np.array([x for x in \"rgbcmyk\"])\n",
    "pyplot.scatter(X[:, 0:1], X[:, 1:2], color=colors[y].tolist(), s=10)\n",
    "pyplot.xlabel(\"X1\")\n",
    "pyplot.ylabel(\"X2\")\n",
    "pyplot.show()"
   ]
  },
  {
   "cell_type": "code",
   "execution_count": null,
   "metadata": {},
   "outputs": [],
   "source": [
    "# Exercice 4\n",
    "\n",
    "# View on MOODLE"
   ]
  },
  {
   "cell_type": "code",
   "execution_count": null,
   "metadata": {},
   "outputs": [],
   "source": [
    "# Exercice 5\n",
    "\n",
    "from sklearn.neighbors import KNeighborsClassifier\n",
    "one_NN = KNeighborsClassifier(n_neighbors=1, algorithm='brute')\n",
    "one_NN.fit(X_train, y_train)\n",
    "\n",
    "#score sur la base d'apprentissage\n",
    "acc_train_set = one_NN.score(X_train, y_train)\n",
    "#score sur la base de test\n",
    "acc_test_set =  one_NN.score(X_test, y_test)"
   ]
  },
  {
   "cell_type": "code",
   "execution_count": null,
   "metadata": {},
   "outputs": [],
   "source": [
    "# Exercice 6\n",
    "\n",
    "y_pred_test = one_NN.predict(X_test)\n",
    "\n",
    "#matrice de confusion\n",
    "from sklearn import metrics\n",
    "confusion_matrix = metrics.confusion_matrix(y_test, y_pred_test)"
   ]
  },
  {
   "cell_type": "code",
   "execution_count": null,
   "metadata": {},
   "outputs": [],
   "source": [
    "# Exercice 7\n",
    "\n",
    "import numpy as np\n",
    "import matplotlib.pyplot as plt\n",
    "from sklearn import model_selection\n",
    "from sklearn import neighbors\n",
    "from sklearn import metrics\n",
    "\n",
    "data = np.loadtxt(\"dataset.dat\")\n",
    "X = data[:, 0:2]\n",
    "y = data[:, -1].astype(int)\n",
    "\n",
    "X_train, X_test, y_train, y_test = model_selection.train_test_split(X, y, train_size=0.7, test_size=0.3, random_state=1)\n",
    "\n",
    "one_NN = neighbors.KNeighborsClassifier(n_neighbors=1, algorithm='brute')\n",
    "one_NN.fit(X_train, y_train)\n",
    "\n",
    "y_pred_test = one_NN.predict(X_test)\n",
    "\n",
    "confusion_matrix = metrics.confusion_matrix(y_test, y_pred_test, labels=one_NN.classes_)\n",
    "\n",
    "disp = metrics.ConfusionMatrixDisplay(confusion_matrix=confusion_matrix, display_labels=one_NN.classes_)\n",
    "disp.plot()\n",
    "\n",
    "plt.show()"
   ]
  },
  {
   "cell_type": "code",
   "execution_count": null,
   "metadata": {},
   "outputs": [],
   "source": [
    "# Exercice 8\n",
    "\n",
    "from matplotlib import pyplot\n",
    "colors = np.array([x for x in \"rgbcmyk\"])\n",
    "\n",
    "# Créer une grille\n",
    "x_min, x_max = X[:, 0].min()*1.1, X[:, 0].max()*1.1\n",
    "y_min, y_max = X[:, 1].min()*1.1, X[:, 1].max()*1.1\n",
    "x_h = (x_max - x_min)/50\n",
    "y_h = (y_max - y_min)/50\n",
    "xx, yy = np.meshgrid(np.arange(x_min, x_max, x_h),\n",
    "np.arange(y_min, y_max, y_h))\n",
    "Y = one_NN.predict(np.c_[xx.ravel(), yy.ravel()])\n",
    "Y = Y.reshape(xx.shape)\n",
    "pyplot.grid()\n",
    "\n",
    "#afficher les frontières/données d'apprentissage\n",
    "pyplot.contourf(xx, yy, Y, cmap=pyplot.cm.Paired, alpha=0.8)\n",
    "pyplot.scatter(X_train[:, 0:1], X_train[:, 1:2], color=colors[y_train].tolist(), s=10)\n",
    "pyplot.xlabel(\"X1\")\n",
    "pyplot.ylabel(\"X2\")\n",
    "pyplot.title(\"Frontières de décision\")\n",
    "pyplot.show()"
   ]
  },
  {
   "cell_type": "code",
   "execution_count": null,
   "metadata": {},
   "outputs": [],
   "source": [
    "# Exercice 9\n",
    "\n",
    "from matplotlib import pyplot\n",
    "colors = np.array([x for x in \"rgbcmyk\"])\n",
    "\n",
    "# Créer une grille\n",
    "x_min, x_max = X[:, 0].min()*1.1, X[:, 0].max()*1.1\n",
    "y_min, y_max = X[:, 1].min()*1.1, X[:, 1].max()*1.1\n",
    "x_h = (x_max - x_min)/50\n",
    "y_h = (y_max - y_min)/50\n",
    "xx, yy = np.meshgrid(np.arange(x_min, x_max, x_h),\n",
    "np.arange(y_min, y_max, y_h))\n",
    "Y = one_NN.predict(np.c_[xx.ravel(), yy.ravel()])\n",
    "Y = Y.reshape(xx.shape)\n",
    "pyplot.grid()\n",
    "\n",
    "#afficher les frontières/données d'apprentissage\n",
    "pyplot.contourf(xx, yy, Y, cmap=pyplot.cm.Paired, alpha=0.8)\n",
    "pyplot.scatter(X_test[:, 0:1], X_test[:, 1:2], color=colors[y_test].tolist(), s=10)\n",
    "pyplot.xlabel(\"X1\")\n",
    "pyplot.ylabel(\"X2\")\n",
    "pyplot.title(\"Frontières de décision\")\n",
    "pyplot.show()"
   ]
  },
  {
   "cell_type": "code",
   "execution_count": null,
   "metadata": {},
   "outputs": [],
   "source": [
    "# Exercice 10\n",
    "\n",
    "#impact de la taille de la base d'apprentissage\n",
    "acc_test = []\n",
    "for size in range(1,100):\n",
    "    X_train1, X_test1, y_train1, y_test1 = model_selection.train_test_split(X_train, y_train, train_size=size/100,random_state=1)\n",
    "    one_NN.fit(X_train1, y_train1)\n",
    "    #score sur la base de test\n",
    "    acc_test.append(one_NN.score(X_test, y_test))"
   ]
  },
  {
   "cell_type": "code",
   "execution_count": null,
   "metadata": {},
   "outputs": [],
   "source": [
    "# Exercice 11\n",
    "\n",
    "# Tracer le graphe (taux de reconnaissance en fonction du nombre d’exemples d’apprentissage).\n",
    "from matplotlib import pyplot\n",
    "pyplot.plot(range(1,100), acc_test)\n",
    "pyplot.xlabel('Nombre d\\'exemples d\\'apprentissage')\n",
    "pyplot.ylabel('Taux de reconnaissance')\n",
    "pyplot.show()\n"
   ]
  },
  {
   "cell_type": "code",
   "execution_count": null,
   "metadata": {},
   "outputs": [],
   "source": [
    "# Exercice 12"
   ]
  },
  {
   "cell_type": "code",
   "execution_count": null,
   "metadata": {},
   "outputs": [],
   "source": [
    "# Exercice 13"
   ]
  },
  {
   "cell_type": "code",
   "execution_count": null,
   "metadata": {},
   "outputs": [],
   "source": [
    "# Exercice 14\n",
    "\n",
    "#Tracer le graphe (taux de reconnaissance en fonction du nombre d’exemples de test).\n",
    "\n",
    "# Import de la bibliothèque Matplotlib\n",
    "import matplotlib.pyplot as plt\n",
    "\n",
    "# Création du graphique\n",
    "plt.plot(acc_test)\n",
    "plt.xlabel(\"Taille de la base de test (%)\")\n",
    "plt.ylabel(\"Taux de reconnaissance\")\n",
    "plt.title(\"Impact de la taille de la base de test\")\n",
    "\n",
    "# Affichage du graphique\n",
    "plt.show()"
   ]
  },
  {
   "cell_type": "code",
   "execution_count": null,
   "metadata": {},
   "outputs": [],
   "source": [
    "# Exercice 15"
   ]
  },
  {
   "cell_type": "code",
   "execution_count": null,
   "metadata": {},
   "outputs": [],
   "source": [
    "# Exercice 16\n",
    "\n",
    "#Tester la fonction KNeighborsClassifier en faisant varier le paramètre k de 1 à une valeur maximum kmax choisie judicieusement.\n",
    "\n",
    "from sklearn.neighbors import KNeighborsClassifier\n",
    "acc_train = []\n",
    "acc_test = []\n",
    "for k in range (1, 200):\n",
    "    one_NN = KNeighborsClassifier(n_neighbors=k, algorithm='brute')\n",
    "    one_NN.fit(X_train, y_train)\n",
    "    acc_train.append(one_NN.score(X_train, y_train))    \n",
    "    acc_test.append(one_NN.score(X_test, y_test))"
   ]
  },
  {
   "cell_type": "code",
   "execution_count": null,
   "metadata": {},
   "outputs": [],
   "source": [
    "# Exercice 17"
   ]
  },
  {
   "cell_type": "code",
   "execution_count": null,
   "metadata": {},
   "outputs": [],
   "source": [
    "# Exercice 18\n",
    "\n",
    "#Observer l’influence du paramètre k sur le taux d’erreur en test : tracer le graphe (taux de reconnaissance en fonction de k).\n",
    "\n",
    "from matplotlib import pyplot\n",
    "pyplot.grid()\n",
    "pyplot.plot(range(1, 200), 1 - np.array(acc_test)) # acc_test contient les valeurs de taux de reconnaissance en test\n",
    "pyplot.xlabel(\"k\")\n",
    "pyplot.ylabel(\"Taux d'erreur\")\n",
    "pyplot.show()"
   ]
  },
  {
   "cell_type": "code",
   "execution_count": null,
   "metadata": {},
   "outputs": [],
   "source": [
    "# Exercice 19"
   ]
  },
  {
   "cell_type": "code",
   "execution_count": null,
   "metadata": {},
   "outputs": [],
   "source": [
    "# Exercice 20\n",
    "\n",
    "#Afficher les frontières de décision pour k = 1.\n",
    "\n",
    "# Import de la bibliothèque Matplotlib\n",
    "from matplotlib import pyplot\n",
    "\n",
    "# Création d'un modèle de classification KNN avec k = 1\n",
    "one_NN = KNeighborsClassifier(n_neighbors=1)\n",
    "\n",
    "# Entraînement du modèle sur les données d'apprentissage\n",
    "one_NN.fit(X_train, y_train)\n",
    "\n",
    "# Création d'une grille de points\n",
    "x_min, x_max = X[:, 0].min()*1.1, X[:, 0].max()*1.1\n",
    "y_min, y_max = X[:, 1].min()*1.1, X[:, 1].max()*1.1\n",
    "x_h = (x_max - x_min)/50\n",
    "y_h = (y_max - y_min)/50\n",
    "xx, yy = np.meshgrid(np.arange(x_min, x_max, x_h),\n",
    "                     np.arange(y_min, y_max, y_h))\n",
    "\n",
    "# Prédiction de la classe pour chaque point de la grille\n",
    "Y = one_NN.predict(np.c_[xx.ravel(), yy.ravel()])\n",
    "Y = Y.reshape(xx.shape)\n",
    "\n",
    "# Affichage de la grille\n",
    "pyplot.grid()\n",
    "\n",
    "# Tracer les frontières de décision\n",
    "pyplot.contourf(xx, yy, Y, cmap=pyplot.cm.Paired, alpha=0.8)\n",
    "\n",
    "# Affichage des points de la base de test\n",
    "pyplot.scatter(X_test[:, 0], X_test[:, 1], color=colors[y_test].tolist(), s=10)\n",
    "\n",
    "# Ajout des labels des axes\n",
    "pyplot.xlabel(\"X1\")\n",
    "pyplot.ylabel(\"X2\")\n",
    "\n",
    "# Ajout du titre\n",
    "pyplot.title(\"Frontières de décision pour k = 1\")\n",
    "\n",
    "# Affichage du graphique\n",
    "pyplot.show()"
   ]
  },
  {
   "cell_type": "code",
   "execution_count": null,
   "metadata": {},
   "outputs": [],
   "source": [
    "#Exercise 21\n",
    "\n",
    "#Afficher les frontières de décision pour k = k*\n",
    "\n",
    "# Import de la bibliothèque Matplotlib\n",
    "from matplotlib import pyplot\n",
    "\n",
    "# Valeur de k* à utiliser pour l'affichage des frontières de décision\n",
    "k_star = 5\n",
    "\n",
    "# Création d'un modèle de classification KNN avec k = k*\n",
    "k_NN = KNeighborsClassifier(n_neighbors=k_star)\n",
    "\n",
    "# Entraînement du modèle sur les données d'apprentissage\n",
    "k_NN.fit(X_train, y_train)\n",
    "\n",
    "# Création d'une grille de points\n",
    "x_min, x_max = X[:, 0].min()*1.1, X[:, 0].max()*1.1\n",
    "y_min, y_max = X[:, 1].min()*1.1, X[:, 1].max()*1.1\n",
    "x_h = (x_max - x_min)/50\n",
    "y_h = (y_max - y_min)/50\n",
    "xx, yy = np.meshgrid(np.arange(x_min, x_max, x_h),\n",
    "                     np.arange(y_min, y_max, y_h))\n",
    "\n",
    "# Prédiction de la classe pour chaque point de la grille\n",
    "Y = k_NN.predict(np.c_[xx.ravel(), yy.ravel()])\n",
    "Y = Y.reshape(xx.shape)\n",
    "\n",
    "# Affichage de la grille\n",
    "pyplot.grid()\n",
    "\n",
    "# Tracer les frontières de décision\n",
    "pyplot.contourf(xx, yy, Y, cmap=pyplot.cm.Paired, alpha=0.8)\n",
    "\n",
    "# Affichage des points de la base de test\n",
    "pyplot.scatter(X_test[:, 0], X_test[:, 1], color=colors[y_test].tolist(), s=10)\n",
    "\n",
    "# Ajout des labels des axes\n",
    "pyplot.xlabel(\"X1\")\n",
    "pyplot.ylabel(\"X2\")\n",
    "\n",
    "# Ajout du titre\n",
    "pyplot.title(\"Frontières de décision pour k = {}\".format(k_star))\n",
    "\n",
    "# Affichage du graph\n",
    "pyplot.show()"
   ]
  },
  {
   "cell_type": "code",
   "execution_count": null,
   "metadata": {},
   "outputs": [],
   "source": [
    "#Exercise 22"
   ]
  },
  {
   "cell_type": "code",
   "execution_count": null,
   "metadata": {},
   "outputs": [],
   "source": [
    "#Exercise 23"
   ]
  },
  {
   "cell_type": "code",
   "execution_count": null,
   "metadata": {},
   "outputs": [],
   "source": [
    "#Exercise 24"
   ]
  },
  {
   "cell_type": "code",
   "execution_count": null,
   "metadata": {},
   "outputs": [],
   "source": [
    "#Exercise 25"
   ]
  },
  {
   "cell_type": "code",
   "execution_count": null,
   "metadata": {},
   "outputs": [],
   "source": [
    "#Exercise 26"
   ]
  }
 ],
 "metadata": {
  "kernelspec": {
   "display_name": "Python 3",
   "language": "python",
   "name": "python3"
  },
  "language_info": {
   "codemirror_mode": {
    "name": "ipython",
    "version": 3
   },
   "file_extension": ".py",
   "mimetype": "text/x-python",
   "name": "python",
   "nbconvert_exporter": "python",
   "pygments_lexer": "ipython3",
   "version": "3.8.10 (tags/v3.8.10:3d8993a, May  3 2021, 11:48:03) [MSC v.1928 64 bit (AMD64)]"
  },
  "orig_nbformat": 4,
  "vscode": {
   "interpreter": {
    "hash": "9819df16dd03c2aa838c062182c5ac19be89e5d4e6467179db87ddbe0990b632"
   }
  }
 },
 "nbformat": 4,
 "nbformat_minor": 2
}
